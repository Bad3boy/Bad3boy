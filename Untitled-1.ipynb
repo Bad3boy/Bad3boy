{
 "cells": [
  {
   "cell_type": "code",
   "execution_count": null,
   "metadata": {},
   "outputs": [
    {
     "ename": "",
     "evalue": "",
     "output_type": "error",
     "traceback": [
      "\u001b[1;31mFailed to start the Kernel. \n",
      "The 'python3102jvsc74a57bd0dcbd4c95b6f51be1df33f501ce02690a518822a735336d1a5e23310bc707d2ed' kernel is not available. Please pick another suitable kernel instead, or install that kernel. \n",
      "View Jupyter <a href='command:jupyter.viewOutput'>log</a> for further details."
     ]
    }
   ],
   "source": [
    "#!/bin/sh\n",
    "\n",
    "npm install\n",
    "npm run build:linux32\n",
    "\n",
    "BUILD_DIR=\"./build/whatsapp-desktop-x32\"\n",
    "\n",
    "rm -R $BUILD_DIR\n",
    "mkdir -p $BUILD_DIR/DEBIAN\n",
    "cp build/debian-x32/* $BUILD_DIR/DEBIAN\n",
    "mkdir -p $BUILD_DIR/opt/whatsapp-desktop/\n",
    "mkdir -p $BUILD_DIR/usr/share/applications/\n",
    "mkdir -p $BUILD_DIR/usr/share/icons/hicolor/128x128/apps/\n",
    "mkdir -p $BUILD_DIR/usr/share/icons/hicolor/64x64/apps/\n",
    "cp \"app/assets/icon/icon@2x.png\" $BUILD_DIR/usr/share/icons/hicolor/128x128/apps/whatsapp.png\n",
    "cp \"app/assets/icon/icon.png\" $BUILD_DIR/usr/share/icons/hicolor/64x64/apps/whatsapp.png\n",
    "cp whatsappdesktop.desktop $BUILD_DIR/usr/share/applications/\n",
    "cp -r dist/WhatsApp-linux-ia32/* $BUILD_DIR/opt/whatsapp-desktop/\n",
    "dpkg-deb --build $BUILD_DIR"
   ]
  }
 ],
 "metadata": {
  "interpreter": {
   "hash": "dcbd4c95b6f51be1df33f501ce02690a518822a735336d1a5e23310bc707d2ed"
  },
  "kernelspec": {
   "display_name": "Python 3.10.2 64-bit (windows store)",
   "language": "python",
   "name": "python3"
  },
  "language_info": {
   "name": "python",
   "version": "3.10.2"
  },
  "orig_nbformat": 4
 },
 "nbformat": 4,
 "nbformat_minor": 2
}
